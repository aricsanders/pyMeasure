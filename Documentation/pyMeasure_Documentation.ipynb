{
 "cells": [
  {
   "cell_type": "markdown",
   "metadata": {},
   "source": [
    "<a id=\"top\"></a>\n",
    "# Welcome to pyMeasure, an open source python library for science.\n",
    "This documentation is for the pyMeasure package, designed by Aric Sanders <a href=\"mailto:aric.sanders@gmail.com\"> aric.sanders@gmail.com </a> 2016. \n",
    "\n",
    "#### <a href=\"./pyMeasure/index.html\">Skip Directly to API Documentation </a>\n",
    "#### <a href=\"./Reference_Index.html\">Skip Directly to Index of All Classes and Functions in pyMeasure </a>\n",
    "\n",
    "\n",
    "## Table of Contents\n",
    "<hr style=\"border-top: 3px double #8c8b8b;\"/>\n",
    "<ol style=\"list-style-type: upper-roman\">\n",
    "<li><h3> <a href=\"#intro\">Introduction</a> </h3></li>\n",
    "A brief introduction to pyMeasure and its motivation.\n",
    "<li><h3> <a href=\"#install\">Installing and Loading pyMeasure</a></h3> </li>\n",
    "How to install pyMeasure and its requirements \n",
    "<li><h3> <a href=\"#help\">Getting Help</a></h3> </li>\n",
    "How to get help on the pyMeasure package and general.\n",
    "<li> <h3><a href=\"#design\">The Design of pyMeasure</a> </h3></li>\n",
    "The overall design of pyMeasure, including how to contribute.\n",
    "<li><h3> <a href=\"#pyMeasure-examples\">pyMeasure Specific Examples</a></h3> </li>\n",
    "Examples specific to the pyMeasure package.\n",
    "<li><h3> <a href=\"#general-examples\">General Examples</a> </h3></li>\n",
    "Examples for general tasks in python and related packages.\n",
    "<li> <h3><a href=\"#nist-examples\">NIST Examples</a> </h3></li>\n",
    "Examples pertinent to work at NIST in Boulder.\n",
    "<li> <h3><a href=\"#license\">License</a></h3> </li>\n",
    "pyMeasure License Statement\n",
    "\n",
    "</ol>"
   ]
  },
  {
   "cell_type": "markdown",
   "metadata": {},
   "source": [
    "<a href=\"#top\"> <em>back to top</em></a>  |  <a href=\"#top\"> <em>previous topic</em></a>  |  <a href=\"#intro\"> <em>next topic</em></a>\n",
    " <hr style=\"border-top: 2px double #8c8b8b;\"/>\n",
    "<h2><a id=\"intro\">Introduction</a> </h2>"
   ]
  },
  {
   "cell_type": "markdown",
   "metadata": {},
   "source": [
    "pyMeasure is a python package born out of the daily needs of a laboratory scientist. In particular, there is a constant need to use external equipment to acquire data, store that data in a sensible way, analyze the stored data, and generate collections and reports after analyzing the data. In the world of scientific computation there is an endless universe of solutions to do this, however none of the solutions met my personal daily needs and philosophy simultaneously. This package tries to stitch together many tools to meet those needs, while serving as a backend library to a webserver. It thus has a lot of other packages. It relies on these packages in different ways and may operate differently on different oeprating systems.Although it currently has a single primary developer, it is my hope that it will be adopted by at least 10's of people and help them accomplish their daily scientific goals."
   ]
  },
  {
   "cell_type": "markdown",
   "metadata": {},
   "source": [
    "<a href=\"#top\"> <em>back to top</em></a>  |  <a href=\"#intro\"> <em>previous topic</em></a>  |  <a href=\"#install\"> <em>next topic</em></a>\n",
    " <hr style=\"border-top: 2px double #8c8b8b;\"/>\n",
    "<h2><a id=\"install\">Installing and Loading pyMeasure</a> </h2>"
   ]
  },
  {
   "cell_type": "markdown",
   "metadata": {},
   "source": [
    "### Installation\n",
    "\n",
    "1.\tInstall Anaconda 2.7 from https://www.continuum.io/downloads\n",
    "2.\tInstall pyvisa using pip install pyvisa\n",
    "3.\tInstall NI-Visa from http://www.ni.com/download/ni-visa-15.0.1/5693/en/\n",
    "4.\tClone boa repository to Anaconda2/Lib/site-packages\n",
    "5.\tClone pyMeasure to Anaconda2/Lib/site-packages\n",
    "6.\tInstall wx from source forge http://wxpython.org/\n",
    "7.\tIn addition, the USB-GPIB interface needs drivers from NI (NI488.2 version 15) and a computer restart.\n",
    "\n",
    "### Optional Dependencies\n",
    "\n",
    "1. Inkscape from https://inkscape.org/en/download/\n",
    "2. Microscoft Office\n",
    "3. pdfkit and wkhtmltopdf pip install pdfkit and install from http://wkhtmltopdf.org/\n",
    "4. statistiCAL and Microwave Uncertainty Framework from  http://www.nist.gov/ctl/rf-technology/related-software.cfm\n",
    "\n",
    "### Development Environment Details\n",
    "A detailed description of my development environment can be found <a href=\"./Examples/html/Development_Environment\">here</a>\n",
    "\n",
    "### Accessing the API after installation\n",
    "The API is best accessed by importing as\n",
    "```python\n",
    "from pyMeasure import *\n",
    "```\n",
    "However, if a specific function or class is required then direct import also works (this form imports the full API)\n",
    "```python\n",
    "from pyMeasure.Code.DataHandlers.XMLModels import XMLBase\n",
    "```\n",
    "If you want to have the import skip the API, then add the pyMeasure folder to sys.path and then import beginning with Code\n",
    "```python\n",
    "import sys\n",
    "sys.path.append(r\"C:\\ProgramData\\Anaconda2\\Lib\\site-packages\\pyMeasure\")\n",
    "from Code.DataHandlers.XMLModels import XMLBase\n",
    "```"
   ]
  },
  {
   "cell_type": "markdown",
   "metadata": {},
   "source": [
    "<a href=\"#top\"> <em>back to top</em></a>  |  <a href=\"#install\"> <em>previous topic</em></a>  |  <a href=\"#help\"> <em>next topic</em></a>\n",
    " <hr style=\"border-top: 2px double #8c8b8b;\"/>\n",
    "<h2><a id=\"help\">Getting Help</a> </h2>"
   ]
  },
  {
   "cell_type": "markdown",
   "metadata": {},
   "source": [
    "There are many ways to get help on pyMeasure. Internal to pyMeasure there are several primary help components:\n",
    "<ul>\n",
    "<li>This page</li>\n",
    "<li> <a href=\"./pyMeasure/index.html\">API help</a></li>\n",
    "<li> <a href=\"./Examples/html/pyMeasure_Examples.html\">Html Examples </a></li>\n",
    "<li> <a href=\"./Examples/jupyter\">Jupyter Interactive Examples </a></li>\n",
    "\n",
    "</ul>\n",
    "Additionally, python has a series of help functions including the command line tool\n",
    "pydoc, in `jupyter` or Ipython help can be reached by ?object or help(object).\n",
    "```python\n",
    "?XMLBase\n",
    "help(XMLBase)\n",
    "```\n",
    "In addition there are several tools in <a href=\"./pyMeasure/Code/Utils/HelpUtils.html\">pyMeasure.Code.Utils.HelpUtils</a> for generating html based help files."
   ]
  },
  {
   "cell_type": "markdown",
   "metadata": {
    "collapsed": true
   },
   "source": [
    "<a href=\"#top\"> <em>back to top</em></a>  |  <a href=\"#help\"> <em>previous topic</em></a>  |  <a href=\"#design\"> <em>next topic</em></a>\n",
    " <hr style=\"border-top: 2px double #8c8b8b;\"/>\n",
    "<h2><a id=\"design\">The Design of pyMeasure</a> </h2>"
   ]
  },
  {
   "cell_type": "markdown",
   "metadata": {},
   "source": [
    "### Overall Design Goal\n",
    "pyMeasure was designed with the overal goal of being easy to use, well documented, well tested and modular. The overall design follows a pattern of Models (DataHandlers), View and View-Controllers (FrontEnds), Anaylsis and Instrument Control. \n",
    "\n",
    "### Directory Structure\n",
    "\n",
    "### Testing Infrastructure\n",
    "pyMeasure has a multi-tiered testing infrastructure. It is comprised of basic unit tests, mesoscopic in module tests, and integration tests. \n",
    "1. __Unit tests :__ These tests check if functions and classes with a basic input return what is expected. They are found in the module pyMeasure.Code.Utils.pyMeasureUnitTests\n",
    "2. __In Module Tests :__ Theses tests are scripts included in each module that test a series of things about functions or classes, they are typically named test_thing_of_interest()\n",
    "3. __Integration Tests:__ These tests check if a large number of interacting components work as expected. For the wx frontend this is primarily the class AdvancedInterfaceFrame, or an integrated application that can open new window panels, run the in module tests and check if data objects appear as they are expected.\n",
    "\n"
   ]
  },
  {
   "cell_type": "code",
   "execution_count": null,
   "metadata": {
    "collapsed": true
   },
   "outputs": [],
   "source": []
  }
 ],
 "metadata": {
  "kernelspec": {
   "display_name": "Python 2",
   "language": "python",
   "name": "python2"
  },
  "language_info": {
   "codemirror_mode": {
    "name": "ipython",
    "version": 2
   },
   "file_extension": ".py",
   "mimetype": "text/x-python",
   "name": "python",
   "nbconvert_exporter": "python",
   "pygments_lexer": "ipython2",
   "version": "2.7.13"
  }
 },
 "nbformat": 4,
 "nbformat_minor": 2
}
