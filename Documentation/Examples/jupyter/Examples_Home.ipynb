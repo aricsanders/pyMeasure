{
 "cells": [
  {
   "cell_type": "markdown",
   "metadata": {},
   "source": [
    "# Examples\n",
    "pyMeasure documentaion contains interactive examples in jupyter explaining the package itself, general themes in programming and data analysis and specific examples pertinent to laboratory work.\n",
    "<ol style=\"list-style-type: upper-roman\">\n",
    "<li><h3> pyMeasure Specific Examples</h3> </li>\n",
    "Examples specific to the pyMeasure package.\n",
    "<ul>\n",
    "<li>\n",
    "<a href=\"./pyMeasure_Module_Specification.ipynb\">Module Structure for pyMeasure</a><br/>\n",
    "An example of naming and module design in pyMeasure.\n",
    "</li>\n",
    "<li>\n",
    "<a href=\"./Development_Stack.ipynb\">Development Environment</a><br/>\n",
    "A detailed description of the software installed on my computer during development of pyMeasure.\n",
    "</li>\n",
    "</ul>\n",
    "<li><h3>General Examples </h3>\n",
    "Examples for general tasks in python and related packages.\n",
    "<ul>\n",
    "<li>\n",
    "<a href=\"./Python_Jupyter_Introduction.ipynb\">General Python and Jupyter Intro </a><br/>\n",
    "An introduction to using python and the jupyter notebook with examples in python/jupyter setup, basic data types, functions, classes, plotting, interactive design, and instrument control \n",
    "</li>\n",
    "<li>\n",
    "<a href=\"./Example_plots.ipynb\">Example Plots </a><br/>\n",
    "An example of interactive plots in jupyter.\n",
    "</li>\n",
    "<li>\n",
    "<a href=\"./HTML_CSS_Javascript_Example.ipynb\">An example of HTML, CSS and Javascript </a><br/>\n",
    "A description of creating html pages with formating and basic javascript.\n",
    "</li>\n",
    "</ul>\n",
    "</li>\n",
    "<li> <h3>Lab Examples </h3></li>\n",
    "Examples pertinent to work in my laboratory.\n",
    "<ul>\n",
    "<li>\n",
    "<a href=\"./PNAGrabber_MUF_Example.ipynb\">A work flow for PNA Grabber and Microwave Uncertainty </a><br/>\n",
    "An introduction to using the NIST* software in two-port microwave calibrations. \n",
    "</li>\n",
    "<li>\n",
    "<a href=\"./Data_Guidance_Group_01.ipynb\">General Data Guidance for XML/Ascii Data </a><br/>\n",
    "General data guidance for storing data more effectively in 672.01 \n",
    "</li>\n",
    "</ul>\n",
    "</ol>\n",
    "`* This work and any depencies are not endorsed by the National Institute of Standards and Technology`"
   ]
  },
  {
   "cell_type": "code",
   "execution_count": null,
   "metadata": {
    "collapsed": true
   },
   "outputs": [],
   "source": []
  }
 ],
 "metadata": {
  "kernelspec": {
   "display_name": "Python 2",
   "language": "python",
   "name": "python2"
  },
  "language_info": {
   "codemirror_mode": {
    "name": "ipython",
    "version": 2
   },
   "file_extension": ".py",
   "mimetype": "text/x-python",
   "name": "python",
   "nbconvert_exporter": "python",
   "pygments_lexer": "ipython2",
   "version": "2.7.13"
  }
 },
 "nbformat": 4,
 "nbformat_minor": 2
}
